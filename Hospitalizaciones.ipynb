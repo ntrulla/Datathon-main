{
 "cells": [
  {
   "attachments": {},
   "cell_type": "markdown",
   "metadata": {},
   "source": [
    "Primero, instalamos las librerías que necesitamos para ejecutar el programa, y hacer las visualizaciones que me serviran para entender el problema."
   ]
  },
  {
   "cell_type": "code",
   "execution_count": 14,
   "metadata": {},
   "outputs": [],
   "source": [
    "\n",
    "from sklearn import linear_model\n",
    "import pandas as pd\n",
    "import seaborn as sns\n",
    "import numpy as np\n",
    "import matplotlib.pyplot as plt"
   ]
  },
  {
   "attachments": {},
   "cell_type": "markdown",
   "metadata": {},
   "source": [
    "Una vez importadas todas las librerías que voy a necesitar, importo los datos de los CSV Train y Test.\n"
   ]
  },
  {
   "cell_type": "code",
   "execution_count": 15,
   "metadata": {},
   "outputs": [],
   "source": [
    "\n",
    "df_train = pd.read_csv(\"hospitalizaciones_train.csv\")\n",
    "df_test = pd.read_csv('hospitalizaciones_test.csv')"
   ]
  },
  {
   "attachments": {},
   "cell_type": "markdown",
   "metadata": {},
   "source": [
    "Analizo los datos que tengo en train."
   ]
  },
  {
   "cell_type": "code",
   "execution_count": 16,
   "metadata": {},
   "outputs": [
    {
     "name": "stdout",
     "output_type": "stream",
     "text": [
      "<class 'pandas.core.frame.DataFrame'>\n",
      "RangeIndex: 410000 entries, 0 to 409999\n",
      "Data columns (total 15 columns):\n",
      " #   Column                             Non-Null Count   Dtype  \n",
      "---  ------                             --------------   -----  \n",
      " 0   Available Extra Rooms in Hospital  410000 non-null  int64  \n",
      " 1   Department                         410000 non-null  object \n",
      " 2   Ward_Facility_Code                 410000 non-null  object \n",
      " 3   doctor_name                        410000 non-null  object \n",
      " 4   staff_available                    410000 non-null  int64  \n",
      " 5   patientid                          410000 non-null  int64  \n",
      " 6   Age                                410000 non-null  object \n",
      " 7   gender                             410000 non-null  object \n",
      " 8   Type of Admission                  410000 non-null  object \n",
      " 9   Severity of Illness                410000 non-null  object \n",
      " 10  health_conditions                  410000 non-null  object \n",
      " 11  Visitors with Patient              410000 non-null  int64  \n",
      " 12  Insurance                          410000 non-null  object \n",
      " 13  Admission_Deposit                  410000 non-null  float64\n",
      " 14  Stay (in days)                     410000 non-null  int64  \n",
      "dtypes: float64(1), int64(5), object(9)\n",
      "memory usage: 46.9+ MB\n"
     ]
    }
   ],
   "source": [
    "df_train.info()"
   ]
  },
  {
   "attachments": {},
   "cell_type": "markdown",
   "metadata": {},
   "source": [
    "Verifico que no hayan datos nulos."
   ]
  },
  {
   "cell_type": "code",
   "execution_count": 17,
   "metadata": {},
   "outputs": [
    {
     "data": {
      "text/plain": [
       "Available Extra Rooms in Hospital    0\n",
       "Department                           0\n",
       "Ward_Facility_Code                   0\n",
       "doctor_name                          0\n",
       "staff_available                      0\n",
       "patientid                            0\n",
       "Age                                  0\n",
       "gender                               0\n",
       "Type of Admission                    0\n",
       "Severity of Illness                  0\n",
       "health_conditions                    0\n",
       "Visitors with Patient                0\n",
       "Insurance                            0\n",
       "Admission_Deposit                    0\n",
       "dtype: int64"
      ]
     },
     "execution_count": 17,
     "metadata": {},
     "output_type": "execute_result"
    }
   ],
   "source": [
    "df_train.isna().sum().sort_values(ascending = False)\n",
    "df_test.isna().sum().sort_values(ascending = False)"
   ]
  },
  {
   "attachments": {},
   "cell_type": "markdown",
   "metadata": {},
   "source": [
    "Verifico que no hayan datos duplicados."
   ]
  },
  {
   "cell_type": "code",
   "execution_count": 18,
   "metadata": {},
   "outputs": [
    {
     "data": {
      "text/html": [
       "<div>\n",
       "<style scoped>\n",
       "    .dataframe tbody tr th:only-of-type {\n",
       "        vertical-align: middle;\n",
       "    }\n",
       "\n",
       "    .dataframe tbody tr th {\n",
       "        vertical-align: top;\n",
       "    }\n",
       "\n",
       "    .dataframe thead th {\n",
       "        text-align: right;\n",
       "    }\n",
       "</style>\n",
       "<table border=\"1\" class=\"dataframe\">\n",
       "  <thead>\n",
       "    <tr style=\"text-align: right;\">\n",
       "      <th></th>\n",
       "      <th>Available Extra Rooms in Hospital</th>\n",
       "      <th>Department</th>\n",
       "      <th>Ward_Facility_Code</th>\n",
       "      <th>doctor_name</th>\n",
       "      <th>staff_available</th>\n",
       "      <th>patientid</th>\n",
       "      <th>Age</th>\n",
       "      <th>gender</th>\n",
       "      <th>Type of Admission</th>\n",
       "      <th>Severity of Illness</th>\n",
       "      <th>health_conditions</th>\n",
       "      <th>Visitors with Patient</th>\n",
       "      <th>Insurance</th>\n",
       "      <th>Admission_Deposit</th>\n",
       "      <th>Stay (in days)</th>\n",
       "    </tr>\n",
       "  </thead>\n",
       "  <tbody>\n",
       "  </tbody>\n",
       "</table>\n",
       "</div>"
      ],
      "text/plain": [
       "Empty DataFrame\n",
       "Columns: [Available Extra Rooms in Hospital, Department, Ward_Facility_Code, doctor_name, staff_available, patientid, Age, gender, Type of Admission, Severity of Illness, health_conditions, Visitors with Patient, Insurance, Admission_Deposit, Stay (in days)]\n",
       "Index: []"
      ]
     },
     "execution_count": 18,
     "metadata": {},
     "output_type": "execute_result"
    }
   ],
   "source": [
    "df_train[df_train.duplicated()]"
   ]
  },
  {
   "cell_type": "code",
   "execution_count": 19,
   "metadata": {},
   "outputs": [
    {
     "data": {
      "text/html": [
       "<div>\n",
       "<style scoped>\n",
       "    .dataframe tbody tr th:only-of-type {\n",
       "        vertical-align: middle;\n",
       "    }\n",
       "\n",
       "    .dataframe tbody tr th {\n",
       "        vertical-align: top;\n",
       "    }\n",
       "\n",
       "    .dataframe thead th {\n",
       "        text-align: right;\n",
       "    }\n",
       "</style>\n",
       "<table border=\"1\" class=\"dataframe\">\n",
       "  <thead>\n",
       "    <tr style=\"text-align: right;\">\n",
       "      <th></th>\n",
       "      <th>Available Extra Rooms in Hospital</th>\n",
       "      <th>Department</th>\n",
       "      <th>Ward_Facility_Code</th>\n",
       "      <th>doctor_name</th>\n",
       "      <th>staff_available</th>\n",
       "      <th>patientid</th>\n",
       "      <th>Age</th>\n",
       "      <th>gender</th>\n",
       "      <th>Type of Admission</th>\n",
       "      <th>Severity of Illness</th>\n",
       "      <th>health_conditions</th>\n",
       "      <th>Visitors with Patient</th>\n",
       "      <th>Insurance</th>\n",
       "      <th>Admission_Deposit</th>\n",
       "    </tr>\n",
       "  </thead>\n",
       "  <tbody>\n",
       "  </tbody>\n",
       "</table>\n",
       "</div>"
      ],
      "text/plain": [
       "Empty DataFrame\n",
       "Columns: [Available Extra Rooms in Hospital, Department, Ward_Facility_Code, doctor_name, staff_available, patientid, Age, gender, Type of Admission, Severity of Illness, health_conditions, Visitors with Patient, Insurance, Admission_Deposit]\n",
       "Index: []"
      ]
     },
     "execution_count": 19,
     "metadata": {},
     "output_type": "execute_result"
    }
   ],
   "source": [
    "df_test[df_test.duplicated()]"
   ]
  },
  {
   "cell_type": "code",
   "execution_count": 20,
   "metadata": {},
   "outputs": [
    {
     "name": "stdout",
     "output_type": "stream",
     "text": [
      "Registros duplicados en train: 0 . Registros duplicados en test: 0\n"
     ]
    }
   ],
   "source": [
    "print ('Registros duplicados en train:' , df_train.duplicated().sum(),'.', 'Registros duplicados en test:' ,df_test.duplicated().sum())"
   ]
  },
  {
   "attachments": {},
   "cell_type": "markdown",
   "metadata": {},
   "source": [
    "Se transforman los datos que tienen valores no numericos y se agregan nuevas columnas para que permitan que los algoritmos de aprendizaje hagan sus predicciones."
   ]
  },
  {
   "cell_type": "code",
   "execution_count": 21,
   "metadata": {},
   "outputs": [],
   "source": [
    "df_train.loc[df_train['Stay (in days)']<= 8 , 'Stay_days'] = 0\n",
    "df_train.loc[df_train['Stay (in days)']> 8 , 'Stay_days'] = 1"
   ]
  },
  {
   "cell_type": "code",
   "execution_count": 22,
   "metadata": {},
   "outputs": [],
   "source": [
    "df_train.loc[df_train['Insurance'] == 'Yes', 'Insurance_bin'] = 1\n",
    "df_train.loc[df_train['Insurance'] == 'No', 'Insurance_bin'] = 0"
   ]
  },
  {
   "cell_type": "code",
   "execution_count": 23,
   "metadata": {},
   "outputs": [],
   "source": [
    "from sklearn import preprocessing\n",
    "le = preprocessing.LabelEncoder()\n",
    "df_train['Department_le'] = le.fit_transform(df_train['Department'])\n",
    "df_train['gender_le'] = le.fit_transform(df_train['gender'])\n",
    "df_train['Type of Admission_le'] = le.fit_transform(df_train['Type of Admission'])\n",
    "df_train['Severity of Illness_le'] = le.fit_transform(df_train['Severity of Illness'])\n",
    "df_train['health_conditions_le'] = le.fit_transform(df_train['health_conditions'])\n",
    "df_train['Age_le'] = le.fit_transform(df_train['Age'])\n",
    "df_train['doctor_name_le'] = le.fit_transform(df_train['doctor_name'])"
   ]
  },
  {
   "cell_type": "code",
   "execution_count": 24,
   "metadata": {},
   "outputs": [
    {
     "data": {
      "text/html": [
       "<div>\n",
       "<style scoped>\n",
       "    .dataframe tbody tr th:only-of-type {\n",
       "        vertical-align: middle;\n",
       "    }\n",
       "\n",
       "    .dataframe tbody tr th {\n",
       "        vertical-align: top;\n",
       "    }\n",
       "\n",
       "    .dataframe thead th {\n",
       "        text-align: right;\n",
       "    }\n",
       "</style>\n",
       "<table border=\"1\" class=\"dataframe\">\n",
       "  <thead>\n",
       "    <tr style=\"text-align: right;\">\n",
       "      <th></th>\n",
       "      <th>Available Extra Rooms in Hospital</th>\n",
       "      <th>staff_available</th>\n",
       "      <th>patientid</th>\n",
       "      <th>Visitors with Patient</th>\n",
       "      <th>Admission_Deposit</th>\n",
       "      <th>Stay (in days)</th>\n",
       "      <th>Stay_days</th>\n",
       "      <th>Insurance_bin</th>\n",
       "      <th>Department_le</th>\n",
       "      <th>gender_le</th>\n",
       "      <th>Type of Admission_le</th>\n",
       "      <th>Severity of Illness_le</th>\n",
       "      <th>health_conditions_le</th>\n",
       "      <th>Age_le</th>\n",
       "      <th>doctor_name_le</th>\n",
       "    </tr>\n",
       "  </thead>\n",
       "  <tbody>\n",
       "    <tr>\n",
       "      <th>Available Extra Rooms in Hospital</th>\n",
       "      <td>1.000000</td>\n",
       "      <td>-0.003064</td>\n",
       "      <td>-0.005426</td>\n",
       "      <td>0.071073</td>\n",
       "      <td>-0.050775</td>\n",
       "      <td>-0.019383</td>\n",
       "      <td>0.053894</td>\n",
       "      <td>0.002438</td>\n",
       "      <td>-0.021235</td>\n",
       "      <td>-0.038214</td>\n",
       "      <td>0.020866</td>\n",
       "      <td>0.024045</td>\n",
       "      <td>0.001643</td>\n",
       "      <td>-0.029921</td>\n",
       "      <td>0.015253</td>\n",
       "    </tr>\n",
       "    <tr>\n",
       "      <th>staff_available</th>\n",
       "      <td>-0.003064</td>\n",
       "      <td>1.000000</td>\n",
       "      <td>-0.000350</td>\n",
       "      <td>0.001444</td>\n",
       "      <td>0.000816</td>\n",
       "      <td>0.006673</td>\n",
       "      <td>0.002883</td>\n",
       "      <td>0.001245</td>\n",
       "      <td>0.016304</td>\n",
       "      <td>0.003960</td>\n",
       "      <td>-0.002255</td>\n",
       "      <td>0.002759</td>\n",
       "      <td>-0.001500</td>\n",
       "      <td>0.001818</td>\n",
       "      <td>-0.001162</td>\n",
       "    </tr>\n",
       "    <tr>\n",
       "      <th>patientid</th>\n",
       "      <td>-0.005426</td>\n",
       "      <td>-0.000350</td>\n",
       "      <td>1.000000</td>\n",
       "      <td>-0.006393</td>\n",
       "      <td>0.011602</td>\n",
       "      <td>0.005567</td>\n",
       "      <td>-0.000532</td>\n",
       "      <td>0.001827</td>\n",
       "      <td>0.002997</td>\n",
       "      <td>0.010714</td>\n",
       "      <td>0.022615</td>\n",
       "      <td>-0.011138</td>\n",
       "      <td>0.002306</td>\n",
       "      <td>0.009765</td>\n",
       "      <td>-0.007540</td>\n",
       "    </tr>\n",
       "    <tr>\n",
       "      <th>Visitors with Patient</th>\n",
       "      <td>0.071073</td>\n",
       "      <td>0.001444</td>\n",
       "      <td>-0.006393</td>\n",
       "      <td>1.000000</td>\n",
       "      <td>-0.069566</td>\n",
       "      <td>0.027284</td>\n",
       "      <td>-0.009529</td>\n",
       "      <td>0.025426</td>\n",
       "      <td>-0.034597</td>\n",
       "      <td>0.048435</td>\n",
       "      <td>-0.020353</td>\n",
       "      <td>0.030199</td>\n",
       "      <td>-0.000117</td>\n",
       "      <td>0.030136</td>\n",
       "      <td>-0.039543</td>\n",
       "    </tr>\n",
       "    <tr>\n",
       "      <th>Admission_Deposit</th>\n",
       "      <td>-0.050775</td>\n",
       "      <td>0.000816</td>\n",
       "      <td>0.011602</td>\n",
       "      <td>-0.069566</td>\n",
       "      <td>1.000000</td>\n",
       "      <td>0.043899</td>\n",
       "      <td>-0.016650</td>\n",
       "      <td>0.001164</td>\n",
       "      <td>-0.009166</td>\n",
       "      <td>0.038189</td>\n",
       "      <td>0.016885</td>\n",
       "      <td>0.005637</td>\n",
       "      <td>0.000412</td>\n",
       "      <td>0.016743</td>\n",
       "      <td>-0.023484</td>\n",
       "    </tr>\n",
       "    <tr>\n",
       "      <th>Stay (in days)</th>\n",
       "      <td>-0.019383</td>\n",
       "      <td>0.006673</td>\n",
       "      <td>0.005567</td>\n",
       "      <td>0.027284</td>\n",
       "      <td>0.043899</td>\n",
       "      <td>1.000000</td>\n",
       "      <td>0.493378</td>\n",
       "      <td>-0.000947</td>\n",
       "      <td>-0.204050</td>\n",
       "      <td>0.589757</td>\n",
       "      <td>0.035811</td>\n",
       "      <td>0.024316</td>\n",
       "      <td>0.001772</td>\n",
       "      <td>0.585201</td>\n",
       "      <td>-0.444867</td>\n",
       "    </tr>\n",
       "    <tr>\n",
       "      <th>Stay_days</th>\n",
       "      <td>0.053894</td>\n",
       "      <td>0.002883</td>\n",
       "      <td>-0.000532</td>\n",
       "      <td>-0.009529</td>\n",
       "      <td>-0.016650</td>\n",
       "      <td>0.493378</td>\n",
       "      <td>1.000000</td>\n",
       "      <td>-0.001063</td>\n",
       "      <td>-0.173021</td>\n",
       "      <td>0.193878</td>\n",
       "      <td>0.006233</td>\n",
       "      <td>0.017030</td>\n",
       "      <td>-0.002568</td>\n",
       "      <td>0.229657</td>\n",
       "      <td>-0.172526</td>\n",
       "    </tr>\n",
       "    <tr>\n",
       "      <th>Insurance_bin</th>\n",
       "      <td>0.002438</td>\n",
       "      <td>0.001245</td>\n",
       "      <td>0.001827</td>\n",
       "      <td>0.025426</td>\n",
       "      <td>0.001164</td>\n",
       "      <td>-0.000947</td>\n",
       "      <td>-0.001063</td>\n",
       "      <td>1.000000</td>\n",
       "      <td>-0.000714</td>\n",
       "      <td>0.001657</td>\n",
       "      <td>-0.002062</td>\n",
       "      <td>0.001924</td>\n",
       "      <td>0.008702</td>\n",
       "      <td>-0.002472</td>\n",
       "      <td>-0.003544</td>\n",
       "    </tr>\n",
       "    <tr>\n",
       "      <th>Department_le</th>\n",
       "      <td>-0.021235</td>\n",
       "      <td>0.016304</td>\n",
       "      <td>0.002997</td>\n",
       "      <td>-0.034597</td>\n",
       "      <td>-0.009166</td>\n",
       "      <td>-0.204050</td>\n",
       "      <td>-0.173021</td>\n",
       "      <td>-0.000714</td>\n",
       "      <td>1.000000</td>\n",
       "      <td>0.016474</td>\n",
       "      <td>-0.037395</td>\n",
       "      <td>0.014698</td>\n",
       "      <td>-0.000344</td>\n",
       "      <td>0.013096</td>\n",
       "      <td>0.241001</td>\n",
       "    </tr>\n",
       "    <tr>\n",
       "      <th>gender_le</th>\n",
       "      <td>-0.038214</td>\n",
       "      <td>0.003960</td>\n",
       "      <td>0.010714</td>\n",
       "      <td>0.048435</td>\n",
       "      <td>0.038189</td>\n",
       "      <td>0.589757</td>\n",
       "      <td>0.193878</td>\n",
       "      <td>0.001657</td>\n",
       "      <td>0.016474</td>\n",
       "      <td>1.000000</td>\n",
       "      <td>0.031566</td>\n",
       "      <td>0.029147</td>\n",
       "      <td>-0.000242</td>\n",
       "      <td>0.497530</td>\n",
       "      <td>-0.420330</td>\n",
       "    </tr>\n",
       "    <tr>\n",
       "      <th>Type of Admission_le</th>\n",
       "      <td>0.020866</td>\n",
       "      <td>-0.002255</td>\n",
       "      <td>0.022615</td>\n",
       "      <td>-0.020353</td>\n",
       "      <td>0.016885</td>\n",
       "      <td>0.035811</td>\n",
       "      <td>0.006233</td>\n",
       "      <td>-0.002062</td>\n",
       "      <td>-0.037395</td>\n",
       "      <td>0.031566</td>\n",
       "      <td>1.000000</td>\n",
       "      <td>-0.070795</td>\n",
       "      <td>0.001768</td>\n",
       "      <td>0.005304</td>\n",
       "      <td>-0.035731</td>\n",
       "    </tr>\n",
       "    <tr>\n",
       "      <th>Severity of Illness_le</th>\n",
       "      <td>0.024045</td>\n",
       "      <td>0.002759</td>\n",
       "      <td>-0.011138</td>\n",
       "      <td>0.030199</td>\n",
       "      <td>0.005637</td>\n",
       "      <td>0.024316</td>\n",
       "      <td>0.017030</td>\n",
       "      <td>0.001924</td>\n",
       "      <td>0.014698</td>\n",
       "      <td>0.029147</td>\n",
       "      <td>-0.070795</td>\n",
       "      <td>1.000000</td>\n",
       "      <td>0.214291</td>\n",
       "      <td>0.023350</td>\n",
       "      <td>-0.003980</td>\n",
       "    </tr>\n",
       "    <tr>\n",
       "      <th>health_conditions_le</th>\n",
       "      <td>0.001643</td>\n",
       "      <td>-0.001500</td>\n",
       "      <td>0.002306</td>\n",
       "      <td>-0.000117</td>\n",
       "      <td>0.000412</td>\n",
       "      <td>0.001772</td>\n",
       "      <td>-0.002568</td>\n",
       "      <td>0.008702</td>\n",
       "      <td>-0.000344</td>\n",
       "      <td>-0.000242</td>\n",
       "      <td>0.001768</td>\n",
       "      <td>0.214291</td>\n",
       "      <td>1.000000</td>\n",
       "      <td>0.037140</td>\n",
       "      <td>-0.475721</td>\n",
       "    </tr>\n",
       "    <tr>\n",
       "      <th>Age_le</th>\n",
       "      <td>-0.029921</td>\n",
       "      <td>0.001818</td>\n",
       "      <td>0.009765</td>\n",
       "      <td>0.030136</td>\n",
       "      <td>0.016743</td>\n",
       "      <td>0.585201</td>\n",
       "      <td>0.229657</td>\n",
       "      <td>-0.002472</td>\n",
       "      <td>0.013096</td>\n",
       "      <td>0.497530</td>\n",
       "      <td>0.005304</td>\n",
       "      <td>0.023350</td>\n",
       "      <td>0.037140</td>\n",
       "      <td>1.000000</td>\n",
       "      <td>-0.308142</td>\n",
       "    </tr>\n",
       "    <tr>\n",
       "      <th>doctor_name_le</th>\n",
       "      <td>0.015253</td>\n",
       "      <td>-0.001162</td>\n",
       "      <td>-0.007540</td>\n",
       "      <td>-0.039543</td>\n",
       "      <td>-0.023484</td>\n",
       "      <td>-0.444867</td>\n",
       "      <td>-0.172526</td>\n",
       "      <td>-0.003544</td>\n",
       "      <td>0.241001</td>\n",
       "      <td>-0.420330</td>\n",
       "      <td>-0.035731</td>\n",
       "      <td>-0.003980</td>\n",
       "      <td>-0.475721</td>\n",
       "      <td>-0.308142</td>\n",
       "      <td>1.000000</td>\n",
       "    </tr>\n",
       "  </tbody>\n",
       "</table>\n",
       "</div>"
      ],
      "text/plain": [
       "                                   Available Extra Rooms in Hospital  \\\n",
       "Available Extra Rooms in Hospital                           1.000000   \n",
       "staff_available                                            -0.003064   \n",
       "patientid                                                  -0.005426   \n",
       "Visitors with Patient                                       0.071073   \n",
       "Admission_Deposit                                          -0.050775   \n",
       "Stay (in days)                                             -0.019383   \n",
       "Stay_days                                                   0.053894   \n",
       "Insurance_bin                                               0.002438   \n",
       "Department_le                                              -0.021235   \n",
       "gender_le                                                  -0.038214   \n",
       "Type of Admission_le                                        0.020866   \n",
       "Severity of Illness_le                                      0.024045   \n",
       "health_conditions_le                                        0.001643   \n",
       "Age_le                                                     -0.029921   \n",
       "doctor_name_le                                              0.015253   \n",
       "\n",
       "                                   staff_available  patientid  \\\n",
       "Available Extra Rooms in Hospital        -0.003064  -0.005426   \n",
       "staff_available                           1.000000  -0.000350   \n",
       "patientid                                -0.000350   1.000000   \n",
       "Visitors with Patient                     0.001444  -0.006393   \n",
       "Admission_Deposit                         0.000816   0.011602   \n",
       "Stay (in days)                            0.006673   0.005567   \n",
       "Stay_days                                 0.002883  -0.000532   \n",
       "Insurance_bin                             0.001245   0.001827   \n",
       "Department_le                             0.016304   0.002997   \n",
       "gender_le                                 0.003960   0.010714   \n",
       "Type of Admission_le                     -0.002255   0.022615   \n",
       "Severity of Illness_le                    0.002759  -0.011138   \n",
       "health_conditions_le                     -0.001500   0.002306   \n",
       "Age_le                                    0.001818   0.009765   \n",
       "doctor_name_le                           -0.001162  -0.007540   \n",
       "\n",
       "                                   Visitors with Patient  Admission_Deposit  \\\n",
       "Available Extra Rooms in Hospital               0.071073          -0.050775   \n",
       "staff_available                                 0.001444           0.000816   \n",
       "patientid                                      -0.006393           0.011602   \n",
       "Visitors with Patient                           1.000000          -0.069566   \n",
       "Admission_Deposit                              -0.069566           1.000000   \n",
       "Stay (in days)                                  0.027284           0.043899   \n",
       "Stay_days                                      -0.009529          -0.016650   \n",
       "Insurance_bin                                   0.025426           0.001164   \n",
       "Department_le                                  -0.034597          -0.009166   \n",
       "gender_le                                       0.048435           0.038189   \n",
       "Type of Admission_le                           -0.020353           0.016885   \n",
       "Severity of Illness_le                          0.030199           0.005637   \n",
       "health_conditions_le                           -0.000117           0.000412   \n",
       "Age_le                                          0.030136           0.016743   \n",
       "doctor_name_le                                 -0.039543          -0.023484   \n",
       "\n",
       "                                   Stay (in days)  Stay_days  Insurance_bin  \\\n",
       "Available Extra Rooms in Hospital       -0.019383   0.053894       0.002438   \n",
       "staff_available                          0.006673   0.002883       0.001245   \n",
       "patientid                                0.005567  -0.000532       0.001827   \n",
       "Visitors with Patient                    0.027284  -0.009529       0.025426   \n",
       "Admission_Deposit                        0.043899  -0.016650       0.001164   \n",
       "Stay (in days)                           1.000000   0.493378      -0.000947   \n",
       "Stay_days                                0.493378   1.000000      -0.001063   \n",
       "Insurance_bin                           -0.000947  -0.001063       1.000000   \n",
       "Department_le                           -0.204050  -0.173021      -0.000714   \n",
       "gender_le                                0.589757   0.193878       0.001657   \n",
       "Type of Admission_le                     0.035811   0.006233      -0.002062   \n",
       "Severity of Illness_le                   0.024316   0.017030       0.001924   \n",
       "health_conditions_le                     0.001772  -0.002568       0.008702   \n",
       "Age_le                                   0.585201   0.229657      -0.002472   \n",
       "doctor_name_le                          -0.444867  -0.172526      -0.003544   \n",
       "\n",
       "                                   Department_le  gender_le  \\\n",
       "Available Extra Rooms in Hospital      -0.021235  -0.038214   \n",
       "staff_available                         0.016304   0.003960   \n",
       "patientid                               0.002997   0.010714   \n",
       "Visitors with Patient                  -0.034597   0.048435   \n",
       "Admission_Deposit                      -0.009166   0.038189   \n",
       "Stay (in days)                         -0.204050   0.589757   \n",
       "Stay_days                              -0.173021   0.193878   \n",
       "Insurance_bin                          -0.000714   0.001657   \n",
       "Department_le                           1.000000   0.016474   \n",
       "gender_le                               0.016474   1.000000   \n",
       "Type of Admission_le                   -0.037395   0.031566   \n",
       "Severity of Illness_le                  0.014698   0.029147   \n",
       "health_conditions_le                   -0.000344  -0.000242   \n",
       "Age_le                                  0.013096   0.497530   \n",
       "doctor_name_le                          0.241001  -0.420330   \n",
       "\n",
       "                                   Type of Admission_le  \\\n",
       "Available Extra Rooms in Hospital              0.020866   \n",
       "staff_available                               -0.002255   \n",
       "patientid                                      0.022615   \n",
       "Visitors with Patient                         -0.020353   \n",
       "Admission_Deposit                              0.016885   \n",
       "Stay (in days)                                 0.035811   \n",
       "Stay_days                                      0.006233   \n",
       "Insurance_bin                                 -0.002062   \n",
       "Department_le                                 -0.037395   \n",
       "gender_le                                      0.031566   \n",
       "Type of Admission_le                           1.000000   \n",
       "Severity of Illness_le                        -0.070795   \n",
       "health_conditions_le                           0.001768   \n",
       "Age_le                                         0.005304   \n",
       "doctor_name_le                                -0.035731   \n",
       "\n",
       "                                   Severity of Illness_le  \\\n",
       "Available Extra Rooms in Hospital                0.024045   \n",
       "staff_available                                  0.002759   \n",
       "patientid                                       -0.011138   \n",
       "Visitors with Patient                            0.030199   \n",
       "Admission_Deposit                                0.005637   \n",
       "Stay (in days)                                   0.024316   \n",
       "Stay_days                                        0.017030   \n",
       "Insurance_bin                                    0.001924   \n",
       "Department_le                                    0.014698   \n",
       "gender_le                                        0.029147   \n",
       "Type of Admission_le                            -0.070795   \n",
       "Severity of Illness_le                           1.000000   \n",
       "health_conditions_le                             0.214291   \n",
       "Age_le                                           0.023350   \n",
       "doctor_name_le                                  -0.003980   \n",
       "\n",
       "                                   health_conditions_le    Age_le  \\\n",
       "Available Extra Rooms in Hospital              0.001643 -0.029921   \n",
       "staff_available                               -0.001500  0.001818   \n",
       "patientid                                      0.002306  0.009765   \n",
       "Visitors with Patient                         -0.000117  0.030136   \n",
       "Admission_Deposit                              0.000412  0.016743   \n",
       "Stay (in days)                                 0.001772  0.585201   \n",
       "Stay_days                                     -0.002568  0.229657   \n",
       "Insurance_bin                                  0.008702 -0.002472   \n",
       "Department_le                                 -0.000344  0.013096   \n",
       "gender_le                                     -0.000242  0.497530   \n",
       "Type of Admission_le                           0.001768  0.005304   \n",
       "Severity of Illness_le                         0.214291  0.023350   \n",
       "health_conditions_le                           1.000000  0.037140   \n",
       "Age_le                                         0.037140  1.000000   \n",
       "doctor_name_le                                -0.475721 -0.308142   \n",
       "\n",
       "                                   doctor_name_le  \n",
       "Available Extra Rooms in Hospital        0.015253  \n",
       "staff_available                         -0.001162  \n",
       "patientid                               -0.007540  \n",
       "Visitors with Patient                   -0.039543  \n",
       "Admission_Deposit                       -0.023484  \n",
       "Stay (in days)                          -0.444867  \n",
       "Stay_days                               -0.172526  \n",
       "Insurance_bin                           -0.003544  \n",
       "Department_le                            0.241001  \n",
       "gender_le                               -0.420330  \n",
       "Type of Admission_le                    -0.035731  \n",
       "Severity of Illness_le                  -0.003980  \n",
       "health_conditions_le                    -0.475721  \n",
       "Age_le                                  -0.308142  \n",
       "doctor_name_le                           1.000000  "
      ]
     },
     "execution_count": 24,
     "metadata": {},
     "output_type": "execute_result"
    }
   ],
   "source": [
    "#Para saber que columnas usar se consulta con el metodo de correlacion\n",
    "df_train_corr=df_train.corr()\n",
    "df_train.corr()"
   ]
  },
  {
   "cell_type": "code",
   "execution_count": 25,
   "metadata": {},
   "outputs": [
    {
     "data": {
      "text/plain": [
       "<AxesSubplot: >"
      ]
     },
     "execution_count": 25,
     "metadata": {},
     "output_type": "execute_result"
    },
    {
     "data": {
      "image/png": "[encoded data removed]",
      "text/plain": [
       "<Figure size 936x576 with 2 Axes>"
      ]
     },
     "metadata": {
      "needs_background": "light"
     },
     "output_type": "display_data"
    }
   ],
   "source": [
    "#Graficamos las correlaciones con un mapa de calor\n",
    "plt.figure(figsize=(13,8))\n",
    "sns.heatmap(df_train_corr, cbar = True,  square = False, annot=True, fmt= '.2f',cmap= 'coolwarm') "
   ]
  },
  {
   "attachments": {},
   "cell_type": "markdown",
   "metadata": {},
   "source": [
    "Se declaran las columnas mas importantes que vamos a utilizar en el modelo."
   ]
  },
  {
   "cell_type": "code",
   "execution_count": 26,
   "metadata": {},
   "outputs": [
    {
     "data": {
      "text/html": [
       "<div>\n",
       "<style scoped>\n",
       "    .dataframe tbody tr th:only-of-type {\n",
       "        vertical-align: middle;\n",
       "    }\n",
       "\n",
       "    .dataframe tbody tr th {\n",
       "        vertical-align: top;\n",
       "    }\n",
       "\n",
       "    .dataframe thead th {\n",
       "        text-align: right;\n",
       "    }\n",
       "</style>\n",
       "<table border=\"1\" class=\"dataframe\">\n",
       "  <thead>\n",
       "    <tr style=\"text-align: right;\">\n",
       "      <th></th>\n",
       "      <th>Department_le</th>\n",
       "      <th>Age_le</th>\n",
       "      <th>gender_le</th>\n",
       "      <th>doctor_name_le</th>\n",
       "    </tr>\n",
       "  </thead>\n",
       "  <tbody>\n",
       "    <tr>\n",
       "      <th>0</th>\n",
       "      <td>2</td>\n",
       "      <td>4</td>\n",
       "      <td>0</td>\n",
       "      <td>8</td>\n",
       "    </tr>\n",
       "    <tr>\n",
       "      <th>1</th>\n",
       "      <td>2</td>\n",
       "      <td>3</td>\n",
       "      <td>0</td>\n",
       "      <td>8</td>\n",
       "    </tr>\n",
       "    <tr>\n",
       "      <th>2</th>\n",
       "      <td>2</td>\n",
       "      <td>2</td>\n",
       "      <td>0</td>\n",
       "      <td>8</td>\n",
       "    </tr>\n",
       "    <tr>\n",
       "      <th>3</th>\n",
       "      <td>2</td>\n",
       "      <td>3</td>\n",
       "      <td>0</td>\n",
       "      <td>4</td>\n",
       "    </tr>\n",
       "    <tr>\n",
       "      <th>4</th>\n",
       "      <td>1</td>\n",
       "      <td>7</td>\n",
       "      <td>1</td>\n",
       "      <td>2</td>\n",
       "    </tr>\n",
       "    <tr>\n",
       "      <th>...</th>\n",
       "      <td>...</td>\n",
       "      <td>...</td>\n",
       "      <td>...</td>\n",
       "      <td>...</td>\n",
       "    </tr>\n",
       "    <tr>\n",
       "      <th>409995</th>\n",
       "      <td>2</td>\n",
       "      <td>3</td>\n",
       "      <td>0</td>\n",
       "      <td>6</td>\n",
       "    </tr>\n",
       "    <tr>\n",
       "      <th>409996</th>\n",
       "      <td>2</td>\n",
       "      <td>2</td>\n",
       "      <td>0</td>\n",
       "      <td>3</td>\n",
       "    </tr>\n",
       "    <tr>\n",
       "      <th>409997</th>\n",
       "      <td>2</td>\n",
       "      <td>2</td>\n",
       "      <td>0</td>\n",
       "      <td>6</td>\n",
       "    </tr>\n",
       "    <tr>\n",
       "      <th>409998</th>\n",
       "      <td>2</td>\n",
       "      <td>2</td>\n",
       "      <td>0</td>\n",
       "      <td>4</td>\n",
       "    </tr>\n",
       "    <tr>\n",
       "      <th>409999</th>\n",
       "      <td>2</td>\n",
       "      <td>4</td>\n",
       "      <td>0</td>\n",
       "      <td>3</td>\n",
       "    </tr>\n",
       "  </tbody>\n",
       "</table>\n",
       "<p>410000 rows × 4 columns</p>\n",
       "</div>"
      ],
      "text/plain": [
       "        Department_le  Age_le  gender_le  doctor_name_le\n",
       "0                   2       4          0               8\n",
       "1                   2       3          0               8\n",
       "2                   2       2          0               8\n",
       "3                   2       3          0               4\n",
       "4                   1       7          1               2\n",
       "...               ...     ...        ...             ...\n",
       "409995              2       3          0               6\n",
       "409996              2       2          0               3\n",
       "409997              2       2          0               6\n",
       "409998              2       2          0               4\n",
       "409999              2       4          0               3\n",
       "\n",
       "[410000 rows x 4 columns]"
      ]
     },
     "execution_count": 26,
     "metadata": {},
     "output_type": "execute_result"
    }
   ],
   "source": [
    "df_train_colum = df_train[['Department_le', 'Age_le', 'gender_le','doctor_name_le']]\n",
    "df_train_colum"
   ]
  },
  {
   "attachments": {},
   "cell_type": "markdown",
   "metadata": {},
   "source": [
    "Se declaran las variables que vamos a usar en nuestro modelo."
   ]
  },
  {
   "cell_type": "code",
   "execution_count": 27,
   "metadata": {},
   "outputs": [],
   "source": [
    "X = df_train_colum\n",
    "y = df_train['Stay_days']"
   ]
  },
  {
   "cell_type": "code",
   "execution_count": 28,
   "metadata": {},
   "outputs": [
    {
     "data": {
      "text/html": [
       "<div>\n",
       "<style scoped>\n",
       "    .dataframe tbody tr th:only-of-type {\n",
       "        vertical-align: middle;\n",
       "    }\n",
       "\n",
       "    .dataframe tbody tr th {\n",
       "        vertical-align: top;\n",
       "    }\n",
       "\n",
       "    .dataframe thead th {\n",
       "        text-align: right;\n",
       "    }\n",
       "</style>\n",
       "<table border=\"1\" class=\"dataframe\">\n",
       "  <thead>\n",
       "    <tr style=\"text-align: right;\">\n",
       "      <th></th>\n",
       "      <th>Available Extra Rooms in Hospital</th>\n",
       "      <th>Department</th>\n",
       "      <th>Ward_Facility_Code</th>\n",
       "      <th>doctor_name</th>\n",
       "      <th>staff_available</th>\n",
       "      <th>patientid</th>\n",
       "      <th>Age</th>\n",
       "      <th>gender</th>\n",
       "      <th>Type of Admission</th>\n",
       "      <th>Severity of Illness</th>\n",
       "      <th>...</th>\n",
       "      <th>Stay (in days)</th>\n",
       "      <th>Stay_days</th>\n",
       "      <th>Insurance_bin</th>\n",
       "      <th>Department_le</th>\n",
       "      <th>gender_le</th>\n",
       "      <th>Type of Admission_le</th>\n",
       "      <th>Severity of Illness_le</th>\n",
       "      <th>health_conditions_le</th>\n",
       "      <th>Age_le</th>\n",
       "      <th>doctor_name_le</th>\n",
       "    </tr>\n",
       "  </thead>\n",
       "  <tbody>\n",
       "    <tr>\n",
       "      <th>0</th>\n",
       "      <td>4</td>\n",
       "      <td>gynecology</td>\n",
       "      <td>D</td>\n",
       "      <td>Dr Sophia</td>\n",
       "      <td>0</td>\n",
       "      <td>33070</td>\n",
       "      <td>41-50</td>\n",
       "      <td>Female</td>\n",
       "      <td>Trauma</td>\n",
       "      <td>Extreme</td>\n",
       "      <td>...</td>\n",
       "      <td>8</td>\n",
       "      <td>0.0</td>\n",
       "      <td>1.0</td>\n",
       "      <td>2</td>\n",
       "      <td>0</td>\n",
       "      <td>1</td>\n",
       "      <td>0</td>\n",
       "      <td>1</td>\n",
       "      <td>4</td>\n",
       "      <td>8</td>\n",
       "    </tr>\n",
       "    <tr>\n",
       "      <th>1</th>\n",
       "      <td>4</td>\n",
       "      <td>gynecology</td>\n",
       "      <td>B</td>\n",
       "      <td>Dr Sophia</td>\n",
       "      <td>2</td>\n",
       "      <td>34808</td>\n",
       "      <td>31-40</td>\n",
       "      <td>Female</td>\n",
       "      <td>Trauma</td>\n",
       "      <td>Minor</td>\n",
       "      <td>...</td>\n",
       "      <td>9</td>\n",
       "      <td>1.0</td>\n",
       "      <td>0.0</td>\n",
       "      <td>2</td>\n",
       "      <td>0</td>\n",
       "      <td>1</td>\n",
       "      <td>1</td>\n",
       "      <td>2</td>\n",
       "      <td>3</td>\n",
       "      <td>8</td>\n",
       "    </tr>\n",
       "    <tr>\n",
       "      <th>2</th>\n",
       "      <td>2</td>\n",
       "      <td>gynecology</td>\n",
       "      <td>B</td>\n",
       "      <td>Dr Sophia</td>\n",
       "      <td>8</td>\n",
       "      <td>44577</td>\n",
       "      <td>21-30</td>\n",
       "      <td>Female</td>\n",
       "      <td>Trauma</td>\n",
       "      <td>Extreme</td>\n",
       "      <td>...</td>\n",
       "      <td>7</td>\n",
       "      <td>0.0</td>\n",
       "      <td>1.0</td>\n",
       "      <td>2</td>\n",
       "      <td>0</td>\n",
       "      <td>1</td>\n",
       "      <td>0</td>\n",
       "      <td>1</td>\n",
       "      <td>2</td>\n",
       "      <td>8</td>\n",
       "    </tr>\n",
       "    <tr>\n",
       "      <th>3</th>\n",
       "      <td>4</td>\n",
       "      <td>gynecology</td>\n",
       "      <td>D</td>\n",
       "      <td>Dr Olivia</td>\n",
       "      <td>7</td>\n",
       "      <td>3695</td>\n",
       "      <td>31-40</td>\n",
       "      <td>Female</td>\n",
       "      <td>Urgent</td>\n",
       "      <td>Moderate</td>\n",
       "      <td>...</td>\n",
       "      <td>8</td>\n",
       "      <td>0.0</td>\n",
       "      <td>0.0</td>\n",
       "      <td>2</td>\n",
       "      <td>0</td>\n",
       "      <td>2</td>\n",
       "      <td>2</td>\n",
       "      <td>4</td>\n",
       "      <td>3</td>\n",
       "      <td>4</td>\n",
       "    </tr>\n",
       "    <tr>\n",
       "      <th>4</th>\n",
       "      <td>2</td>\n",
       "      <td>anesthesia</td>\n",
       "      <td>E</td>\n",
       "      <td>Dr Mark</td>\n",
       "      <td>10</td>\n",
       "      <td>108956</td>\n",
       "      <td>71-80</td>\n",
       "      <td>Male</td>\n",
       "      <td>Trauma</td>\n",
       "      <td>Moderate</td>\n",
       "      <td>...</td>\n",
       "      <td>34</td>\n",
       "      <td>1.0</td>\n",
       "      <td>0.0</td>\n",
       "      <td>1</td>\n",
       "      <td>1</td>\n",
       "      <td>1</td>\n",
       "      <td>2</td>\n",
       "      <td>1</td>\n",
       "      <td>7</td>\n",
       "      <td>2</td>\n",
       "    </tr>\n",
       "  </tbody>\n",
       "</table>\n",
       "<p>5 rows × 24 columns</p>\n",
       "</div>"
      ],
      "text/plain": [
       "   Available Extra Rooms in Hospital  Department Ward_Facility_Code  \\\n",
       "0                                  4  gynecology                  D   \n",
       "1                                  4  gynecology                  B   \n",
       "2                                  2  gynecology                  B   \n",
       "3                                  4  gynecology                  D   \n",
       "4                                  2  anesthesia                  E   \n",
       "\n",
       "  doctor_name  staff_available  patientid    Age  gender Type of Admission  \\\n",
       "0   Dr Sophia                0      33070  41-50  Female            Trauma   \n",
       "1   Dr Sophia                2      34808  31-40  Female            Trauma   \n",
       "2   Dr Sophia                8      44577  21-30  Female            Trauma   \n",
       "3   Dr Olivia                7       3695  31-40  Female            Urgent   \n",
       "4     Dr Mark               10     108956  71-80    Male            Trauma   \n",
       "\n",
       "  Severity of Illness  ... Stay (in days)  Stay_days Insurance_bin  \\\n",
       "0             Extreme  ...              8        0.0           1.0   \n",
       "1               Minor  ...              9        1.0           0.0   \n",
       "2             Extreme  ...              7        0.0           1.0   \n",
       "3            Moderate  ...              8        0.0           0.0   \n",
       "4            Moderate  ...             34        1.0           0.0   \n",
       "\n",
       "   Department_le  gender_le  Type of Admission_le  Severity of Illness_le  \\\n",
       "0              2          0                     1                       0   \n",
       "1              2          0                     1                       1   \n",
       "2              2          0                     1                       0   \n",
       "3              2          0                     2                       2   \n",
       "4              1          1                     1                       2   \n",
       "\n",
       "   health_conditions_le  Age_le  doctor_name_le  \n",
       "0                     1       4               8  \n",
       "1                     2       3               8  \n",
       "2                     1       2               8  \n",
       "3                     4       3               4  \n",
       "4                     1       7               2  \n",
       "\n",
       "[5 rows x 24 columns]"
      ]
     },
     "execution_count": 28,
     "metadata": {},
     "output_type": "execute_result"
    }
   ],
   "source": [
    "df_train.head()"
   ]
  },
  {
   "attachments": {},
   "cell_type": "markdown",
   "metadata": {},
   "source": [
    "**Probamos modelo con metodo de Clasificacion \n",
    "ARBOL DE DESICION**"
   ]
  },
  {
   "attachments": {},
   "cell_type": "markdown",
   "metadata": {},
   "source": [
    "Separamos el train y el test"
   ]
  },
  {
   "cell_type": "code",
   "execution_count": 29,
   "metadata": {},
   "outputs": [],
   "source": [
    "from sklearn.model_selection import train_test_split\n",
    "\n",
    "train_x, test_x, train_y, test_y = train_test_split(X, y, test_size = 0.3,random_state = 42) "
   ]
  },
  {
   "attachments": {},
   "cell_type": "markdown",
   "metadata": {},
   "source": [
    "Ver cual es la profundidad mas optima para el modelo."
   ]
  },
  {
   "cell_type": "code",
   "execution_count": 32,
   "metadata": {},
   "outputs": [
    {
     "name": "stdout",
     "output_type": "stream",
     "text": [
      "Completado: 5.26%\n",
      "Completado: 10.53%\n",
      "Completado: 15.79%\n",
      "Completado: 21.05%\n",
      "Completado: 26.32%\n",
      "Completado: 31.58%\n",
      "Completado: 36.84%\n",
      "Completado: 42.11%\n",
      "Completado: 47.37%\n",
      "Completado: 52.63%\n",
      "Completado: 57.89%\n",
      "Completado: 63.16%\n",
      "Completado: 68.42%\n",
      "Completado: 73.68%\n",
      "Completado: 78.95%\n",
      "Completado: 84.21%\n",
      "Completado: 89.47%\n",
      "Completado: 94.74%\n",
      "Completado: 100.0%\n"
     ]
    },
    {
     "data": {
      "image/png": "[encoded data removed]",
      "text/plain": [
       "<Figure size 432x288 with 1 Axes>"
      ]
     },
     "metadata": {
      "needs_background": "light"
     },
     "output_type": "display_data"
    }
   ],
   "source": [
    "from sklearn.model_selection import cross_validate\n",
    "\n",
    "tree_train_scores_mean = []\n",
    "tree_train_scores_std = []\n",
    "tree_test_scores_mean = []\n",
    "tree_test_scores_std = []\n",
    "\n",
    "profundidades = np.arange(1,20,1)\n",
    "i = 0\n",
    "i_max = len(profundidades)\n",
    "for profundidad in profundidades:\n",
    "    i = i + 1\n",
    "    Modelo_1 = DecisionTreeClassifier(max_depth=profundidad,random_state = 42)\n",
    "    tree_scores = cross_validate(Modelo_1, X, y, cv=5, return_train_score=True, n_jobs = -1)\n",
    "    \n",
    "    tree_train_scores_mean.append(tree_scores['train_score'].mean())\n",
    "    tree_train_scores_std.append(tree_scores['train_score'].std())\n",
    "    \n",
    "    tree_test_scores_mean.append(tree_scores['test_score'].mean())\n",
    "    tree_test_scores_std.append(tree_scores['test_score'].std())\n",
    "    #clear_output(wait=True)\n",
    "    print('Completado: ' + str(round(i / i_max * 100, 2)) + '%')\n",
    "\n",
    "plt.plot(profundidades, tree_train_scores_mean, 'o-', color=\"r\",\n",
    "         label=\"Training score\")\n",
    "plt.plot(profundidades, tree_test_scores_mean, 'o-', color=\"g\",\n",
    "         label=\"Test score\")\n",
    "\n",
    "plt.legend()\n",
    "plt.ylabel('Accuracy')\n",
    "plt.xlabel('Profundidad Arbol de Decision')\n",
    "plt.show()"
   ]
  },
  {
   "attachments": {},
   "cell_type": "markdown",
   "metadata": {},
   "source": [
    "Entrenamos el modelo con profundidad de 4 ya que es la mejor."
   ]
  },
  {
   "cell_type": "code",
   "execution_count": 35,
   "metadata": {},
   "outputs": [
    {
     "data": {
      "text/html": [
       "<style>#sk-container-id-2 {color: black;background-color: white;}#sk-container-id-2 pre{padding: 0;}#sk-container-id-2 div.sk-toggleable {background-color: white;}#sk-container-id-2 label.sk-toggleable__label {cursor: pointer;display: block;width: 100%;margin-bottom: 0;padding: 0.3em;box-sizing: border-box;text-align: center;}#sk-container-id-2 label.sk-toggleable__label-arrow:before {content: \"▸\";float: left;margin-right: 0.25em;color: #696969;}#sk-container-id-2 label.sk-toggleable__label-arrow:hover:before {color: black;}#sk-container-id-2 div.sk-estimator:hover label.sk-toggleable__label-arrow:before {color: black;}#sk-container-id-2 div.sk-toggleable__content {max-height: 0;max-width: 0;overflow: hidden;text-align: left;background-color: #f0f8ff;}#sk-container-id-2 div.sk-toggleable__content pre {margin: 0.2em;color: black;border-radius: 0.25em;background-color: #f0f8ff;}#sk-container-id-2 input.sk-toggleable__control:checked~div.sk-toggleable__content {max-height: 200px;max-width: 100%;overflow: auto;}#sk-container-id-2 input.sk-toggleable__control:checked~label.sk-toggleable__label-arrow:before {content: \"▾\";}#sk-container-id-2 div.sk-estimator input.sk-toggleable__control:checked~label.sk-toggleable__label {background-color: #d4ebff;}#sk-container-id-2 div.sk-label input.sk-toggleable__control:checked~label.sk-toggleable__label {background-color: #d4ebff;}#sk-container-id-2 input.sk-hidden--visually {border: 0;clip: rect(1px 1px 1px 1px);clip: rect(1px, 1px, 1px, 1px);height: 1px;margin: -1px;overflow: hidden;padding: 0;position: absolute;width: 1px;}#sk-container-id-2 div.sk-estimator {font-family: monospace;background-color: #f0f8ff;border: 1px dotted black;border-radius: 0.25em;box-sizing: border-box;margin-bottom: 0.5em;}#sk-container-id-2 div.sk-estimator:hover {background-color: #d4ebff;}#sk-container-id-2 div.sk-parallel-item::after {content: \"\";width: 100%;border-bottom: 1px solid gray;flex-grow: 1;}#sk-container-id-2 div.sk-label:hover label.sk-toggleable__label {background-color: #d4ebff;}#sk-container-id-2 div.sk-serial::before {content: \"\";position: absolute;border-left: 1px solid gray;box-sizing: border-box;top: 0;bottom: 0;left: 50%;z-index: 0;}#sk-container-id-2 div.sk-serial {display: flex;flex-direction: column;align-items: center;background-color: white;padding-right: 0.2em;padding-left: 0.2em;position: relative;}#sk-container-id-2 div.sk-item {position: relative;z-index: 1;}#sk-container-id-2 div.sk-parallel {display: flex;align-items: stretch;justify-content: center;background-color: white;position: relative;}#sk-container-id-2 div.sk-item::before, #sk-container-id-2 div.sk-parallel-item::before {content: \"\";position: absolute;border-left: 1px solid gray;box-sizing: border-box;top: 0;bottom: 0;left: 50%;z-index: -1;}#sk-container-id-2 div.sk-parallel-item {display: flex;flex-direction: column;z-index: 1;position: relative;background-color: white;}#sk-container-id-2 div.sk-parallel-item:first-child::after {align-self: flex-end;width: 50%;}#sk-container-id-2 div.sk-parallel-item:last-child::after {align-self: flex-start;width: 50%;}#sk-container-id-2 div.sk-parallel-item:only-child::after {width: 0;}#sk-container-id-2 div.sk-dashed-wrapped {border: 1px dashed gray;margin: 0 0.4em 0.5em 0.4em;box-sizing: border-box;padding-bottom: 0.4em;background-color: white;}#sk-container-id-2 div.sk-label label {font-family: monospace;font-weight: bold;display: inline-block;line-height: 1.2em;}#sk-container-id-2 div.sk-label-container {text-align: center;}#sk-container-id-2 div.sk-container {/* jupyter's `normalize.less` sets `[hidden] { display: none; }` but bootstrap.min.css set `[hidden] { display: none !important; }` so we also need the `!important` here to be able to override the default hidden behavior on the sphinx rendered scikit-learn.org. See: https://github.com/scikit-learn/scikit-learn/issues/21755 */display: inline-block !important;position: relative;}#sk-container-id-2 div.sk-text-repr-fallback {display: none;}</style><div id=\"sk-container-id-2\" class=\"sk-top-container\"><div class=\"sk-text-repr-fallback\"><pre>DecisionTreeClassifier(max_depth=4)</pre><b>In a Jupyter environment, please rerun this cell to show the HTML representation or trust the notebook. <br />On GitHub, the HTML representation is unable to render, please try loading this page with nbviewer.org.</b></div><div class=\"sk-container\" hidden><div class=\"sk-item\"><div class=\"sk-estimator sk-toggleable\"><input class=\"sk-toggleable__control sk-hidden--visually\" id=\"sk-estimator-id-2\" type=\"checkbox\" checked><label for=\"sk-estimator-id-2\" class=\"sk-toggleable__label sk-toggleable__label-arrow\">DecisionTreeClassifier</label><div class=\"sk-toggleable__content\"><pre>DecisionTreeClassifier(max_depth=4)</pre></div></div></div></div></div>"
      ],
      "text/plain": [
       "DecisionTreeClassifier(max_depth=4)"
      ]
     },
     "execution_count": 35,
     "metadata": {},
     "output_type": "execute_result"
    }
   ],
   "source": [
    "from sklearn.tree import DecisionTreeClassifier\n",
    "\n",
    "#Instanciamos el modelo\n",
    "Modelo_1= DecisionTreeClassifier(max_depth=4)\n",
    "\n",
    "#Entrenamos el modelo\n",
    "Modelo_1.fit(train_x,train_y)"
   ]
  },
  {
   "cell_type": "code",
   "execution_count": 36,
   "metadata": {},
   "outputs": [
    {
     "name": "stdout",
     "output_type": "stream",
     "text": [
      "[0.28424518 0.71575482 0.         0.        ]\n"
     ]
    }
   ],
   "source": [
    "#Veo las columnas mas importantes que el modelo tomo\n",
    "print(Modelo_1.feature_importances_)"
   ]
  },
  {
   "cell_type": "code",
   "execution_count": 37,
   "metadata": {},
   "outputs": [
    {
     "data": {
      "text/plain": [
       "array([1.        , 0.54483133, 0.54483133, 0.54483133, 0.54483133,\n",
       "       1.        , 0.54483133, 0.54483133, 1.        , 0.54483133,\n",
       "       1.        , 0.54483133, 0.54483133, 0.04418209, 0.04418209,\n",
       "       0.54483133, 0.54483133, 0.56742727, 1.        , 0.54483133])"
      ]
     },
     "execution_count": 37,
     "metadata": {},
     "output_type": "execute_result"
    }
   ],
   "source": [
    "# Predicción y validacion sobre el test\n",
    "pred = Modelo_1.predict_proba(test_x)[:, 1]\n",
    "pred[:20]"
   ]
  },
  {
   "cell_type": "code",
   "execution_count": 38,
   "metadata": {},
   "outputs": [
    {
     "name": "stdout",
     "output_type": "stream",
     "text": [
      "Precisión (accuracy) en el set de testeo: 0.6846707317073171\n"
     ]
    }
   ],
   "source": [
    "#Evaluacion del modelo con Accuracy \n",
    "from sklearn.metrics import accuracy_score\n",
    "\n",
    "print(f'Precisión (accuracy) en el set de testeo: {accuracy_score(Modelo_1.predict(X), y)}')"
   ]
  },
  {
   "attachments": {},
   "cell_type": "markdown",
   "metadata": {},
   "source": [
    "Interpretación - Diagrama del árbol"
   ]
  },
  {
   "cell_type": "code",
   "execution_count": 39,
   "metadata": {},
   "outputs": [
    {
     "data": {
      "text/plain": [
       "[Text(0.5416666666666666, 0.9, 'node #0\\nAge_le <= 4.5\\nsamples = 100.0%\\nvalue = [0.38, 0.62]'),\n",
       " Text(0.4583333333333333, 0.7, 'node #1\\nDepartment_le <= 1.5\\nsamples = 84.7%\\nvalue = [0.44, 0.56]'),\n",
       " Text(0.25, 0.5, 'node #2\\nDepartment_le <= 0.5\\nsamples = 6.6%\\nvalue = [0.02, 0.98]'),\n",
       " Text(0.16666666666666666, 0.3, 'node #3\\nAge_le <= 2.5\\nsamples = 2.4%\\nvalue = [0.07, 0.93]'),\n",
       " Text(0.08333333333333333, 0.1, 'node #4\\nsamples = 0.6%\\nvalue = [0.0, 1.0]'),\n",
       " Text(0.25, 0.1, 'node #5\\nsamples = 1.7%\\nvalue = [0.09, 0.91]'),\n",
       " Text(0.3333333333333333, 0.3, 'node #6\\nsamples = 4.2%\\nvalue = [0.0, 1.0]'),\n",
       " Text(0.6666666666666666, 0.5, 'node #7\\nDepartment_le <= 2.5\\nsamples = 78.1%\\nvalue = [0.48, 0.52]'),\n",
       " Text(0.5, 0.3, 'node #8\\nAge_le <= 1.5\\nsamples = 68.7%\\nvalue = [0.45, 0.55]'),\n",
       " Text(0.4166666666666667, 0.1, 'node #9\\nsamples = 9.0%\\nvalue = [0.43, 0.57]'),\n",
       " Text(0.5833333333333334, 0.1, 'node #10\\nsamples = 59.7%\\nvalue = [0.46, 0.54]'),\n",
       " Text(0.8333333333333334, 0.3, 'node #11\\nAge_le <= 2.5\\nsamples = 9.4%\\nvalue = [0.69, 0.31]'),\n",
       " Text(0.75, 0.1, 'node #12\\nsamples = 2.7%\\nvalue = [0.0, 1.0]'),\n",
       " Text(0.9166666666666666, 0.1, 'node #13\\nsamples = 6.8%\\nvalue = [0.96, 0.04]'),\n",
       " Text(0.625, 0.7, 'node #14\\nsamples = 15.3%\\nvalue = [0.0, 1.0]')]"
      ]
     },
     "execution_count": 39,
     "metadata": {},
     "output_type": "execute_result"
    },
    {
     "data": {
      "image/png": "[encoded data removed]",
      "text/plain": [
       "<Figure size 720x504 with 1 Axes>"
      ]
     },
     "metadata": {
      "needs_background": "light"
     },
     "output_type": "display_data"
    }
   ],
   "source": [
    "from sklearn.tree import plot_tree\n",
    "\n",
    "plt.figure(figsize = (10,7))\n",
    "\n",
    "plot_tree(Modelo_1,\n",
    "          feature_names= test_x.columns,\n",
    "          impurity = False,\n",
    "          node_ids = True,\n",
    "          proportion = True,\n",
    "          rounded = True,\n",
    "          precision = 2)"
   ]
  },
  {
   "attachments": {},
   "cell_type": "markdown",
   "metadata": {},
   "source": [
    "Creo mi modelo"
   ]
  },
  {
   "cell_type": "code",
   "execution_count": 40,
   "metadata": {},
   "outputs": [],
   "source": [
    "# Predecimos sobre nuestro set de entrenamieto\n",
    "\n",
    "y_train_pred = Modelo_1.predict(train_x)\n",
    "\n",
    "# Predecimos sobre nuestro set de testeo\n",
    "\n",
    "y_test_pred = Modelo_1.predict(test_x)"
   ]
  },
  {
   "attachments": {},
   "cell_type": "markdown",
   "metadata": {},
   "source": [
    "## **`Matriz de confusión`**\n",
    "\n",
    "Veamos la matriz de nuestro modelo"
   ]
  },
  {
   "cell_type": "code",
   "execution_count": 41,
   "metadata": {},
   "outputs": [],
   "source": [
    "from sklearn.metrics import confusion_matrix\n",
    "\n",
    "matrix = confusion_matrix(train_y, y_train_pred)\n",
    "matrix_2 = confusion_matrix(test_y, y_test_pred)\n"
   ]
  },
  {
   "attachments": {},
   "cell_type": "markdown",
   "metadata": {},
   "source": [
    "Graficamos la matrix de confusión"
   ]
  },
  {
   "cell_type": "code",
   "execution_count": 42,
   "metadata": {},
   "outputs": [
    {
     "data": {
      "image/png": "[encoded data removed]",
      "text/plain": [
       "<Figure size 288x360 with 1 Axes>"
      ]
     },
     "metadata": {
      "needs_background": "light"
     },
     "output_type": "display_data"
    }
   ],
   "source": [
    "fig, ax = plt.subplots(figsize=(4,5))\n",
    "\n",
    "ax.matshow(matrix)\n",
    "for (i, j), z in np.ndenumerate(matrix):\n",
    "    ax.text(j, i, '{:0.1f}'.format(z), ha='center', va='center')\n",
    "plt.show()"
   ]
  },
  {
   "cell_type": "code",
   "execution_count": 43,
   "metadata": {},
   "outputs": [
    {
     "data": {
      "image/png": "[encoded data removed]",
      "text/plain": [
       "<Figure size 288x360 with 1 Axes>"
      ]
     },
     "metadata": {
      "needs_background": "light"
     },
     "output_type": "display_data"
    }
   ],
   "source": [
    "fig, ax = plt.subplots(figsize=(4,5))\n",
    "\n",
    "ax.matshow(matrix_2)\n",
    "for (i, j), z in np.ndenumerate(matrix_2):\n",
    "    ax.text(j, i, '{:0.1f}'.format(z), ha='center', va='center')\n",
    "plt.show()"
   ]
  },
  {
   "attachments": {},
   "cell_type": "markdown",
   "metadata": {},
   "source": [
    "### **`Exactitud`**"
   ]
  },
  {
   "cell_type": "code",
   "execution_count": 44,
   "metadata": {},
   "outputs": [
    {
     "name": "stdout",
     "output_type": "stream",
     "text": [
      "Precisión (accuracy) del modelo: 0.684219512195122\n"
     ]
    }
   ],
   "source": [
    "from sklearn.metrics import accuracy_score\n",
    "\n",
    "exactitud = accuracy_score(test_y, y_test_pred)\n",
    "print(f'Precisión (accuracy) del modelo: {exactitud}')"
   ]
  },
  {
   "attachments": {},
   "cell_type": "markdown",
   "metadata": {},
   "source": [
    "### **`Precisión`**"
   ]
  },
  {
   "cell_type": "code",
   "execution_count": 45,
   "metadata": {},
   "outputs": [
    {
     "name": "stdout",
     "output_type": "stream",
     "text": [
      "[0.95747237 0.66438488]\n"
     ]
    }
   ],
   "source": [
    "from sklearn.metrics import precision_score\n",
    "\n",
    "precision = precision_score(test_y, y_test_pred, average= None)\n",
    "print(precision)\n"
   ]
  },
  {
   "attachments": {},
   "cell_type": "markdown",
   "metadata": {},
   "source": [
    "### **`Recall`**"
   ]
  },
  {
   "cell_type": "code",
   "execution_count": 46,
   "metadata": {},
   "outputs": [
    {
     "name": "stdout",
     "output_type": "stream",
     "text": [
      "[0.17155649 0.99537515]\n"
     ]
    }
   ],
   "source": [
    "from sklearn.metrics import recall_score\n",
    "\n",
    "precision = recall_score(test_y, y_test_pred, average= None)\n",
    "print(precision)"
   ]
  },
  {
   "attachments": {},
   "cell_type": "markdown",
   "metadata": {},
   "source": [
    "Hacemos el pipline de los datos necesarias ya que no debemos analizar los datos en los mismos sistemas donde se crean. El proceso de analítica es costoso computacionalmente, por lo que se separa para evitar perjudicar el rendimiento del servicio. "
   ]
  },
  {
   "cell_type": "code",
   "execution_count": 47,
   "metadata": {},
   "outputs": [],
   "source": [
    "# Importamos las librerías necesarias\n",
    "\n",
    "from sklearn.preprocessing import StandardScaler\n",
    "from sklearn.decomposition import PCA\n",
    "from sklearn.pipeline import Pipeline\n",
    "from sklearn.linear_model import LogisticRegression\n",
    "from sklearn import svm\n",
    "from sklearn import tree"
   ]
  },
  {
   "cell_type": "code",
   "execution_count": 48,
   "metadata": {},
   "outputs": [],
   "source": [
    "# Creamos el pipeline\n",
    "\n",
    "pipe_dt = Pipeline([('scl', StandardScaler()),\n",
    "\t\t\t('pca', PCA(n_components=2)),\n",
    "\t\t\t('clf', tree.DecisionTreeClassifier(random_state=42))])"
   ]
  },
  {
   "cell_type": "code",
   "execution_count": 49,
   "metadata": {},
   "outputs": [],
   "source": [
    "# Los guardamos en una lista\n",
    "\n",
    "pipelines = [pipe_dt]"
   ]
  },
  {
   "cell_type": "code",
   "execution_count": 50,
   "metadata": {},
   "outputs": [],
   "source": [
    "# Hacemos un diccionario para fines organizativos\n",
    "\n",
    "pipe_dict = { 0: 'Árbol de decisión'}"
   ]
  },
  {
   "cell_type": "code",
   "execution_count": 51,
   "metadata": {},
   "outputs": [],
   "source": [
    "# Entrenamos\n",
    "\n",
    "for pipe in pipelines:\n",
    "\tpipe.fit(train_x, train_y)"
   ]
  },
  {
   "cell_type": "code",
   "execution_count": 52,
   "metadata": {},
   "outputs": [
    {
     "name": "stdout",
     "output_type": "stream",
     "text": [
      "Árbol de decisión pipeline accuracy en test: 0.687\n"
     ]
    }
   ],
   "source": [
    "# Evaluamos\n",
    "\n",
    "for idx, val in enumerate(pipelines):\n",
    "\tprint('%s pipeline accuracy en test: %.3f' % (pipe_dict[idx], val.score(test_x, test_y)))"
   ]
  },
  {
   "cell_type": "code",
   "execution_count": 54,
   "metadata": {},
   "outputs": [
    {
     "name": "stdout",
     "output_type": "stream",
     "text": [
      "Modelo con el mejor accuracy: Árbol de decisión\n"
     ]
    }
   ],
   "source": [
    "# Identificamos el mejor modelo para el set de testeo\n",
    "\n",
    "best_acc = 0.0\n",
    "best_clf = 0\n",
    "best_pipe = ''\n",
    "for idx, val in enumerate(pipelines):\n",
    "\tif val.score(test_x, test_y) > best_acc:\n",
    "\t\tbest_acc = val.score(test_x, test_y)\n",
    "\t\tbest_pipe = val\n",
    "\t\tbest_clf = idx\n",
    "print('Modelo con el mejor accuracy: %s' % pipe_dict[best_clf])"
   ]
  },
  {
   "cell_type": "code",
   "execution_count": 55,
   "metadata": {},
   "outputs": [
    {
     "name": "stdout",
     "output_type": "stream",
     "text": [
      "Pipeline de Árbol de decisión guardado a archivo\n"
     ]
    }
   ],
   "source": [
    "# Guardamos el pipeline en un archivo\n",
    "\n",
    "import joblib #pickle es alternativa\n",
    "\n",
    "joblib.dump(best_pipe, 'Mejor_pipeline.pkl', compress=1)\n",
    "print('Pipeline de %s guardado a archivo' % pipe_dict[best_clf])"
   ]
  },
  {
   "cell_type": "code",
   "execution_count": 56,
   "metadata": {},
   "outputs": [],
   "source": [
    "best_model = joblib.load('Mejor_pipeline.pkl')\n",
    "\n",
    "X_train, X_test, y_train, y_test = train_test_split(X.values, y.values, test_size=0.30, random_state=42, stratify=y)"
   ]
  },
  {
   "cell_type": "code",
   "execution_count": 57,
   "metadata": {},
   "outputs": [
    {
     "data": {
      "text/html": [
       "<style>#sk-container-id-3 {color: black;background-color: white;}#sk-container-id-3 pre{padding: 0;}#sk-container-id-3 div.sk-toggleable {background-color: white;}#sk-container-id-3 label.sk-toggleable__label {cursor: pointer;display: block;width: 100%;margin-bottom: 0;padding: 0.3em;box-sizing: border-box;text-align: center;}#sk-container-id-3 label.sk-toggleable__label-arrow:before {content: \"▸\";float: left;margin-right: 0.25em;color: #696969;}#sk-container-id-3 label.sk-toggleable__label-arrow:hover:before {color: black;}#sk-container-id-3 div.sk-estimator:hover label.sk-toggleable__label-arrow:before {color: black;}#sk-container-id-3 div.sk-toggleable__content {max-height: 0;max-width: 0;overflow: hidden;text-align: left;background-color: #f0f8ff;}#sk-container-id-3 div.sk-toggleable__content pre {margin: 0.2em;color: black;border-radius: 0.25em;background-color: #f0f8ff;}#sk-container-id-3 input.sk-toggleable__control:checked~div.sk-toggleable__content {max-height: 200px;max-width: 100%;overflow: auto;}#sk-container-id-3 input.sk-toggleable__control:checked~label.sk-toggleable__label-arrow:before {content: \"▾\";}#sk-container-id-3 div.sk-estimator input.sk-toggleable__control:checked~label.sk-toggleable__label {background-color: #d4ebff;}#sk-container-id-3 div.sk-label input.sk-toggleable__control:checked~label.sk-toggleable__label {background-color: #d4ebff;}#sk-container-id-3 input.sk-hidden--visually {border: 0;clip: rect(1px 1px 1px 1px);clip: rect(1px, 1px, 1px, 1px);height: 1px;margin: -1px;overflow: hidden;padding: 0;position: absolute;width: 1px;}#sk-container-id-3 div.sk-estimator {font-family: monospace;background-color: #f0f8ff;border: 1px dotted black;border-radius: 0.25em;box-sizing: border-box;margin-bottom: 0.5em;}#sk-container-id-3 div.sk-estimator:hover {background-color: #d4ebff;}#sk-container-id-3 div.sk-parallel-item::after {content: \"\";width: 100%;border-bottom: 1px solid gray;flex-grow: 1;}#sk-container-id-3 div.sk-label:hover label.sk-toggleable__label {background-color: #d4ebff;}#sk-container-id-3 div.sk-serial::before {content: \"\";position: absolute;border-left: 1px solid gray;box-sizing: border-box;top: 0;bottom: 0;left: 50%;z-index: 0;}#sk-container-id-3 div.sk-serial {display: flex;flex-direction: column;align-items: center;background-color: white;padding-right: 0.2em;padding-left: 0.2em;position: relative;}#sk-container-id-3 div.sk-item {position: relative;z-index: 1;}#sk-container-id-3 div.sk-parallel {display: flex;align-items: stretch;justify-content: center;background-color: white;position: relative;}#sk-container-id-3 div.sk-item::before, #sk-container-id-3 div.sk-parallel-item::before {content: \"\";position: absolute;border-left: 1px solid gray;box-sizing: border-box;top: 0;bottom: 0;left: 50%;z-index: -1;}#sk-container-id-3 div.sk-parallel-item {display: flex;flex-direction: column;z-index: 1;position: relative;background-color: white;}#sk-container-id-3 div.sk-parallel-item:first-child::after {align-self: flex-end;width: 50%;}#sk-container-id-3 div.sk-parallel-item:last-child::after {align-self: flex-start;width: 50%;}#sk-container-id-3 div.sk-parallel-item:only-child::after {width: 0;}#sk-container-id-3 div.sk-dashed-wrapped {border: 1px dashed gray;margin: 0 0.4em 0.5em 0.4em;box-sizing: border-box;padding-bottom: 0.4em;background-color: white;}#sk-container-id-3 div.sk-label label {font-family: monospace;font-weight: bold;display: inline-block;line-height: 1.2em;}#sk-container-id-3 div.sk-label-container {text-align: center;}#sk-container-id-3 div.sk-container {/* jupyter's `normalize.less` sets `[hidden] { display: none; }` but bootstrap.min.css set `[hidden] { display: none !important; }` so we also need the `!important` here to be able to override the default hidden behavior on the sphinx rendered scikit-learn.org. See: https://github.com/scikit-learn/scikit-learn/issues/21755 */display: inline-block !important;position: relative;}#sk-container-id-3 div.sk-text-repr-fallback {display: none;}</style><div id=\"sk-container-id-3\" class=\"sk-top-container\"><div class=\"sk-text-repr-fallback\"><pre>Pipeline(steps=[(&#x27;scl&#x27;, StandardScaler()), (&#x27;pca&#x27;, PCA(n_components=2)),\n",
       "                (&#x27;clf&#x27;, DecisionTreeClassifier(random_state=42))])</pre><b>In a Jupyter environment, please rerun this cell to show the HTML representation or trust the notebook. <br />On GitHub, the HTML representation is unable to render, please try loading this page with nbviewer.org.</b></div><div class=\"sk-container\" hidden><div class=\"sk-item sk-dashed-wrapped\"><div class=\"sk-label-container\"><div class=\"sk-label sk-toggleable\"><input class=\"sk-toggleable__control sk-hidden--visually\" id=\"sk-estimator-id-3\" type=\"checkbox\" ><label for=\"sk-estimator-id-3\" class=\"sk-toggleable__label sk-toggleable__label-arrow\">Pipeline</label><div class=\"sk-toggleable__content\"><pre>Pipeline(steps=[(&#x27;scl&#x27;, StandardScaler()), (&#x27;pca&#x27;, PCA(n_components=2)),\n",
       "                (&#x27;clf&#x27;, DecisionTreeClassifier(random_state=42))])</pre></div></div></div><div class=\"sk-serial\"><div class=\"sk-item\"><div class=\"sk-estimator sk-toggleable\"><input class=\"sk-toggleable__control sk-hidden--visually\" id=\"sk-estimator-id-4\" type=\"checkbox\" ><label for=\"sk-estimator-id-4\" class=\"sk-toggleable__label sk-toggleable__label-arrow\">StandardScaler</label><div class=\"sk-toggleable__content\"><pre>StandardScaler()</pre></div></div></div><div class=\"sk-item\"><div class=\"sk-estimator sk-toggleable\"><input class=\"sk-toggleable__control sk-hidden--visually\" id=\"sk-estimator-id-5\" type=\"checkbox\" ><label for=\"sk-estimator-id-5\" class=\"sk-toggleable__label sk-toggleable__label-arrow\">PCA</label><div class=\"sk-toggleable__content\"><pre>PCA(n_components=2)</pre></div></div></div><div class=\"sk-item\"><div class=\"sk-estimator sk-toggleable\"><input class=\"sk-toggleable__control sk-hidden--visually\" id=\"sk-estimator-id-6\" type=\"checkbox\" ><label for=\"sk-estimator-id-6\" class=\"sk-toggleable__label sk-toggleable__label-arrow\">DecisionTreeClassifier</label><div class=\"sk-toggleable__content\"><pre>DecisionTreeClassifier(random_state=42)</pre></div></div></div></div></div></div></div>"
      ],
      "text/plain": [
       "Pipeline(steps=[('scl', StandardScaler()), ('pca', PCA(n_components=2)),\n",
       "                ('clf', DecisionTreeClassifier(random_state=42))])"
      ]
     },
     "execution_count": 57,
     "metadata": {},
     "output_type": "execute_result"
    }
   ],
   "source": [
    "best_model.fit(X_train,y_train)"
   ]
  },
  {
   "cell_type": "code",
   "execution_count": 58,
   "metadata": {},
   "outputs": [
    {
     "data": {
      "text/plain": [
       "0.6875365853658536"
      ]
     },
     "execution_count": 58,
     "metadata": {},
     "output_type": "execute_result"
    }
   ],
   "source": [
    "best_model.score(X_test, y_test)"
   ]
  },
  {
   "attachments": {},
   "cell_type": "markdown",
   "metadata": {},
   "source": [
    "**Incorporamos el scoring al dataframe principal**"
   ]
  },
  {
   "cell_type": "code",
   "execution_count": 59,
   "metadata": {},
   "outputs": [
    {
     "data": {
      "text/html": [
       "<div>\n",
       "<style scoped>\n",
       "    .dataframe tbody tr th:only-of-type {\n",
       "        vertical-align: middle;\n",
       "    }\n",
       "\n",
       "    .dataframe tbody tr th {\n",
       "        vertical-align: top;\n",
       "    }\n",
       "\n",
       "    .dataframe thead th {\n",
       "        text-align: right;\n",
       "    }\n",
       "</style>\n",
       "<table border=\"1\" class=\"dataframe\">\n",
       "  <thead>\n",
       "    <tr style=\"text-align: right;\">\n",
       "      <th></th>\n",
       "      <th>Available Extra Rooms in Hospital</th>\n",
       "      <th>Department</th>\n",
       "      <th>Ward_Facility_Code</th>\n",
       "      <th>doctor_name</th>\n",
       "      <th>staff_available</th>\n",
       "      <th>patientid</th>\n",
       "      <th>Age</th>\n",
       "      <th>gender</th>\n",
       "      <th>Type of Admission</th>\n",
       "      <th>Severity of Illness</th>\n",
       "      <th>health_conditions</th>\n",
       "      <th>Visitors with Patient</th>\n",
       "      <th>Insurance</th>\n",
       "      <th>Admission_Deposit</th>\n",
       "    </tr>\n",
       "  </thead>\n",
       "  <tbody>\n",
       "    <tr>\n",
       "      <th>0</th>\n",
       "      <td>3</td>\n",
       "      <td>1</td>\n",
       "      <td>5</td>\n",
       "      <td>4</td>\n",
       "      <td>10</td>\n",
       "      <td>2858</td>\n",
       "      <td>2</td>\n",
       "      <td>0</td>\n",
       "      <td>1</td>\n",
       "      <td>2</td>\n",
       "      <td>5</td>\n",
       "      <td>2</td>\n",
       "      <td>0</td>\n",
       "      <td>52469</td>\n",
       "    </tr>\n",
       "    <tr>\n",
       "      <th>1</th>\n",
       "      <td>2</td>\n",
       "      <td>4</td>\n",
       "      <td>4</td>\n",
       "      <td>1</td>\n",
       "      <td>4</td>\n",
       "      <td>65657</td>\n",
       "      <td>5</td>\n",
       "      <td>0</td>\n",
       "      <td>1</td>\n",
       "      <td>2</td>\n",
       "      <td>0</td>\n",
       "      <td>2</td>\n",
       "      <td>1</td>\n",
       "      <td>24227</td>\n",
       "    </tr>\n",
       "    <tr>\n",
       "      <th>2</th>\n",
       "      <td>2</td>\n",
       "      <td>2</td>\n",
       "      <td>4</td>\n",
       "      <td>1</td>\n",
       "      <td>7</td>\n",
       "      <td>45598</td>\n",
       "      <td>5</td>\n",
       "      <td>2</td>\n",
       "      <td>1</td>\n",
       "      <td>2</td>\n",
       "      <td>4</td>\n",
       "      <td>3</td>\n",
       "      <td>0</td>\n",
       "      <td>75017</td>\n",
       "    </tr>\n",
       "    <tr>\n",
       "      <th>3</th>\n",
       "      <td>2</td>\n",
       "      <td>1</td>\n",
       "      <td>5</td>\n",
       "      <td>4</td>\n",
       "      <td>1</td>\n",
       "      <td>31132</td>\n",
       "      <td>2</td>\n",
       "      <td>0</td>\n",
       "      <td>1</td>\n",
       "      <td>2</td>\n",
       "      <td>4</td>\n",
       "      <td>2</td>\n",
       "      <td>1</td>\n",
       "      <td>19861</td>\n",
       "    </tr>\n",
       "    <tr>\n",
       "      <th>4</th>\n",
       "      <td>2</td>\n",
       "      <td>0</td>\n",
       "      <td>0</td>\n",
       "      <td>1</td>\n",
       "      <td>7</td>\n",
       "      <td>125021</td>\n",
       "      <td>5</td>\n",
       "      <td>0</td>\n",
       "      <td>1</td>\n",
       "      <td>0</td>\n",
       "      <td>1</td>\n",
       "      <td>2</td>\n",
       "      <td>0</td>\n",
       "      <td>53798</td>\n",
       "    </tr>\n",
       "    <tr>\n",
       "      <th>...</th>\n",
       "      <td>...</td>\n",
       "      <td>...</td>\n",
       "      <td>...</td>\n",
       "      <td>...</td>\n",
       "      <td>...</td>\n",
       "      <td>...</td>\n",
       "      <td>...</td>\n",
       "      <td>...</td>\n",
       "      <td>...</td>\n",
       "      <td>...</td>\n",
       "      <td>...</td>\n",
       "      <td>...</td>\n",
       "      <td>...</td>\n",
       "      <td>...</td>\n",
       "    </tr>\n",
       "    <tr>\n",
       "      <th>89995</th>\n",
       "      <td>4</td>\n",
       "      <td>1</td>\n",
       "      <td>5</td>\n",
       "      <td>6</td>\n",
       "      <td>2</td>\n",
       "      <td>43001</td>\n",
       "      <td>1</td>\n",
       "      <td>0</td>\n",
       "      <td>1</td>\n",
       "      <td>1</td>\n",
       "      <td>3</td>\n",
       "      <td>3</td>\n",
       "      <td>0</td>\n",
       "      <td>23729</td>\n",
       "    </tr>\n",
       "    <tr>\n",
       "      <th>89996</th>\n",
       "      <td>13</td>\n",
       "      <td>1</td>\n",
       "      <td>5</td>\n",
       "      <td>4</td>\n",
       "      <td>8</td>\n",
       "      <td>85601</td>\n",
       "      <td>3</td>\n",
       "      <td>0</td>\n",
       "      <td>0</td>\n",
       "      <td>2</td>\n",
       "      <td>5</td>\n",
       "      <td>2</td>\n",
       "      <td>0</td>\n",
       "      <td>45398</td>\n",
       "    </tr>\n",
       "    <tr>\n",
       "      <th>89997</th>\n",
       "      <td>2</td>\n",
       "      <td>1</td>\n",
       "      <td>1</td>\n",
       "      <td>6</td>\n",
       "      <td>3</td>\n",
       "      <td>22447</td>\n",
       "      <td>1</td>\n",
       "      <td>0</td>\n",
       "      <td>0</td>\n",
       "      <td>2</td>\n",
       "      <td>3</td>\n",
       "      <td>2</td>\n",
       "      <td>0</td>\n",
       "      <td>74998</td>\n",
       "    </tr>\n",
       "    <tr>\n",
       "      <th>89998</th>\n",
       "      <td>2</td>\n",
       "      <td>2</td>\n",
       "      <td>0</td>\n",
       "      <td>1</td>\n",
       "      <td>1</td>\n",
       "      <td>29957</td>\n",
       "      <td>6</td>\n",
       "      <td>0</td>\n",
       "      <td>1</td>\n",
       "      <td>0</td>\n",
       "      <td>1</td>\n",
       "      <td>2</td>\n",
       "      <td>0</td>\n",
       "      <td>49049</td>\n",
       "    </tr>\n",
       "    <tr>\n",
       "      <th>89999</th>\n",
       "      <td>3</td>\n",
       "      <td>1</td>\n",
       "      <td>5</td>\n",
       "      <td>8</td>\n",
       "      <td>3</td>\n",
       "      <td>45008</td>\n",
       "      <td>4</td>\n",
       "      <td>0</td>\n",
       "      <td>1</td>\n",
       "      <td>2</td>\n",
       "      <td>2</td>\n",
       "      <td>4</td>\n",
       "      <td>1</td>\n",
       "      <td>50266</td>\n",
       "    </tr>\n",
       "  </tbody>\n",
       "</table>\n",
       "<p>90000 rows × 14 columns</p>\n",
       "</div>"
      ],
      "text/plain": [
       "       Available Extra Rooms in Hospital  Department  Ward_Facility_Code  \\\n",
       "0                                      3           1                   5   \n",
       "1                                      2           4                   4   \n",
       "2                                      2           2                   4   \n",
       "3                                      2           1                   5   \n",
       "4                                      2           0                   0   \n",
       "...                                  ...         ...                 ...   \n",
       "89995                                  4           1                   5   \n",
       "89996                                 13           1                   5   \n",
       "89997                                  2           1                   1   \n",
       "89998                                  2           2                   0   \n",
       "89999                                  3           1                   5   \n",
       "\n",
       "       doctor_name  staff_available  patientid  Age  gender  \\\n",
       "0                4               10       2858    2       0   \n",
       "1                1                4      65657    5       0   \n",
       "2                1                7      45598    5       2   \n",
       "3                4                1      31132    2       0   \n",
       "4                1                7     125021    5       0   \n",
       "...            ...              ...        ...  ...     ...   \n",
       "89995            6                2      43001    1       0   \n",
       "89996            4                8      85601    3       0   \n",
       "89997            6                3      22447    1       0   \n",
       "89998            1                1      29957    6       0   \n",
       "89999            8                3      45008    4       0   \n",
       "\n",
       "       Type of Admission  Severity of Illness  health_conditions  \\\n",
       "0                      1                    2                  5   \n",
       "1                      1                    2                  0   \n",
       "2                      1                    2                  4   \n",
       "3                      1                    2                  4   \n",
       "4                      1                    0                  1   \n",
       "...                  ...                  ...                ...   \n",
       "89995                  1                    1                  3   \n",
       "89996                  0                    2                  5   \n",
       "89997                  0                    2                  3   \n",
       "89998                  1                    0                  1   \n",
       "89999                  1                    2                  2   \n",
       "\n",
       "       Visitors with Patient  Insurance  Admission_Deposit  \n",
       "0                          2          0              52469  \n",
       "1                          2          1              24227  \n",
       "2                          3          0              75017  \n",
       "3                          2          1              19861  \n",
       "4                          2          0              53798  \n",
       "...                      ...        ...                ...  \n",
       "89995                      3          0              23729  \n",
       "89996                      2          0              45398  \n",
       "89997                      2          0              74998  \n",
       "89998                      2          0              49049  \n",
       "89999                      4          1              50266  \n",
       "\n",
       "[90000 rows x 14 columns]"
      ]
     },
     "execution_count": 59,
     "metadata": {},
     "output_type": "execute_result"
    }
   ],
   "source": [
    "df_test = pd.read_csv('hospitalizaciones_test.csv') #Importe de datos\n",
    "\n",
    "#Normalización de columnas tipo string, todo en minúsculas\n",
    "for column in df_test.columns:\n",
    "    if df_test[column].dtype == ('object'):\n",
    "        df_test[column]=df_test[column].str.lower()\n",
    "\n",
    "#Cambio de variables string a números\n",
    "encoder = preprocessing.LabelEncoder()\n",
    "for column in df_test.columns:\n",
    "    if df_test[column].dtype != ('int64' or 'float'):\n",
    "        df_test[column]=encoder.fit_transform(df_test[column])\n",
    "df_test"
   ]
  },
  {
   "cell_type": "code",
   "execution_count": 60,
   "metadata": {},
   "outputs": [
    {
     "name": "stderr",
     "output_type": "stream",
     "text": [
      "C:\\Users\\Natalia\\AppData\\Local\\Packages\\PythonSoftwareFoundation.Python.3.10_qbz5n2kfra8p0\\LocalCache\\local-packages\\Python310\\site-packages\\sklearn\\base.py:493: FutureWarning: The feature names should match those that were passed during fit. Starting version 1.2, an error will be raised.\n",
      "Feature names unseen at fit time:\n",
      "- Age\n",
      "- Department\n",
      "- doctor_name\n",
      "- gender\n",
      "Feature names seen at fit time, yet now missing:\n",
      "- Age_le\n",
      "- Department_le\n",
      "- doctor_name_le\n",
      "- gender_le\n",
      "\n",
      "  warnings.warn(message, FutureWarning)\n"
     ]
    }
   ],
   "source": [
    "important_features = df_test[['doctor_name','Department','Age', 'gender']]\n",
    "y = Modelo_1.predict(important_features)"
   ]
  },
  {
   "cell_type": "code",
   "execution_count": 61,
   "metadata": {},
   "outputs": [],
   "source": [
    "prediction = pd.DataFrame(y.reshape(-1,1), columns=['pred'])\n",
    "prediction.to_csv('ntrulla.csv', index=False)"
   ]
  },
  {
   "cell_type": "code",
   "execution_count": 63,
   "metadata": {},
   "outputs": [],
   "source": [
    "df_test['Age'] = df_test['Age'].astype('object')"
   ]
  }
 ],
 "metadata": {
  "kernelspec": {
   "display_name": "Python 3",
   "language": "python",
   "name": "python3"
  },
  "language_info": {
   "codemirror_mode": {
    "name": "ipython",
    "version": 3
   },
   "file_extension": ".py",
   "mimetype": "text/x-python",
   "name": "python",
   "nbconvert_exporter": "python",
   "pygments_lexer": "ipython3",
   "version": "3.10.9"
  },
  "orig_nbformat": 4,
  "vscode": {
   "interpreter": {
    "hash": "8f4caa2d30935580112e2bb4a142833b5126ed53259677c686b938aed5f7c1ea"
   }
  }
 },
 "nbformat": 4,
 "nbformat_minor": 2
}
